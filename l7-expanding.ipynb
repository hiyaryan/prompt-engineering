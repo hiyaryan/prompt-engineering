{
    "cells": [
        {
            "attachments": {},
            "cell_type": "markdown",
            "metadata": {},
            "source": [
                "# Expanding\n",
                "Generate customer service emails tailored to each customer's review.\n",
                "\n",
                "## Setup"
            ]
        },
        {
            "cell_type": "code",
            "execution_count": 1,
            "metadata": {},
            "outputs": [],
            "source": [
                "import openai\n",
                "import os\n",
                "\n",
                "from dotenv import load_dotenv, find_dotenv\n",
                "\n",
                "_ = load_dotenv(find_dotenv())  # read local .env file for API key\n",
                "\n",
                "openai.api_key = os.getenv(\"OPENAI_API_KEY\")"
            ]
        },
        {
            "cell_type": "code",
            "execution_count": 2,
            "metadata": {},
            "outputs": [],
            "source": [
                "def get_completion(prompt, model=\"gpt-3.5-turbo\", temperature=0.0):\n",
                "    messages = [{\"role\": \"user\", \"content\": prompt}]\n",
                "    response = openai.ChatCompletion.create(\n",
                "        model=model,\n",
                "        messages=messages,\n",
                "        temperature=temperature,  # degree of randomness of the output\n",
                "    )\n",
                "    return response.choices[0].message[\"content\"]"
            ]
        },
        {
            "attachments": {},
            "cell_type": "markdown",
            "metadata": {},
            "source": [
                "## Customize the automated reply to a customer email"
            ]
        },
        {
            "cell_type": "code",
            "execution_count": 3,
            "metadata": {},
            "outputs": [],
            "source": [
                "# given the sentiment from the lesson on \"inferring\",\n",
                "# and the original customer message, customize the email\n",
                "sentiment = \"negative\"\n",
                "\n",
                "# review for a blender\n",
                "review = f\"\"\"\n",
                "So, they still had the 17 piece system on seasonal \\\n",
                "sale for around $49 in the month of November, about \\\n",
                "half off, but for some reason (call it price gouging) \\\n",
                "around the second week of December the prices all went \\\n",
                "up to about anywhere from between $70-$89 for the same \\\n",
                "system. And the 11 piece system went up around $10 or \\\n",
                "so in price also from the earlier sale price of $29. \\\n",
                "So it looks okay, but if you look at the base, the part \\\n",
                "where the blade locks into place doesn’t look as good \\\n",
                "as in previous editions from a few years ago, but I \\\n",
                "plan to be very gentle with it (example, I crush \\\n",
                "very hard items like beans, ice, rice, etc. in the \\ \n",
                "blender first then pulverize them in the serving size \\\n",
                "I want in the blender then switch to the whipping \\\n",
                "blade for a finer flour, and use the cross cutting blade \\\n",
                "first when making smoothies, then use the flat blade \\\n",
                "if I need them finer/less pulpy). Special tip when making \\\n",
                "smoothies, finely cut and freeze the fruits and \\\n",
                "vegetables (if using spinach-lightly stew soften the \\ \n",
                "spinach then freeze until ready for use-and if making \\\n",
                "sorbet, use a small to medium sized food processor) \\ \n",
                "that you plan to use that way you can avoid adding so \\\n",
                "much ice if at all-when making your smoothie. \\\n",
                "After about a year, the motor was making a funny noise. \\\n",
                "I called customer service but the warranty expired \\\n",
                "already, so I had to buy another one. FYI: The overall \\\n",
                "quality has gone done in these types of products, so \\\n",
                "they are kind of counting on brand recognition and \\\n",
                "consumer loyalty to maintain sales. Got it in about \\\n",
                "two days.\n",
                "\"\"\"\n"
            ]
        },
        {
            "cell_type": "code",
            "execution_count": 4,
            "metadata": {},
            "outputs": [
                {
                    "name": "stdout",
                    "output_type": "stream",
                    "text": [
                        "Dear Valued Customer,\n",
                        "\n",
                        "Thank you for taking the time to leave a review about our product. We are sorry to hear that you experienced an increase in price and that the quality of the product did not meet your expectations. We apologize for any inconvenience this may have caused you.\n",
                        "\n",
                        "We would like to assure you that we take all feedback seriously and we will be sure to pass your comments along to our team. If you have any further concerns, please do not hesitate to reach out to our customer service team for assistance.\n",
                        "\n",
                        "Thank you again for your review and for choosing our product. We hope to have the opportunity to serve you better in the future.\n",
                        "\n",
                        "Best regards,\n",
                        "\n",
                        "AI customer agent\n"
                    ]
                }
            ],
            "source": [
                "prompt = f\"\"\"\n",
                "You are a customer service AI assistant.\n",
                "Your task is to send an email reply to a valued customer.\n",
                "Given the customer email delimited by ```, \\\n",
                "Generate a reply to thank the customer for their review.\n",
                "If the sentiment is positive or neutral, thank them for \\\n",
                "their review.\n",
                "If the sentiment is negative, apologize and suggest that \\\n",
                "they can reach out to customer service. \n",
                "Make sure to use specific details from the review.\n",
                "Write in a concise and professional tone.\n",
                "Sign the email as `AI customer agent`.\n",
                "Customer review: ```{review}```\n",
                "Review sentiment: {sentiment}\n",
                "\"\"\"\n",
                "\n",
                "response = get_completion(prompt)\n",
                "print(response)"
            ]
        },
        {
            "attachments": {},
            "cell_type": "markdown",
            "metadata": {},
            "source": [
                "## Remind the model to use details from the customer's email\n",
                "\n",
                "Temperature is a hyperparameter of the model. It controls the randomness of the predictions. The higher the temperature, the more varied the results. Lower temperatures result in less varied results, with the model choosing only the \"safer\" predictions.\n",
                "\n",
                "Choose a temperature of 0 for tasks that require reliability and predictability. Choose a temperature greater than 0 for tasks that require creativity and variety."
            ]
        },
        {
            "cell_type": "code",
            "execution_count": 5,
            "metadata": {},
            "outputs": [
                {
                    "name": "stdout",
                    "output_type": "stream",
                    "text": [
                        "Dear valued customer,\n",
                        "\n",
                        "Thank you for taking the time to review our product. We sincerely apologize for any disappointment you experienced with the pricing changes and the quality of our product. We always strive to provide the highest quality products at fair prices, and it seems that we fell short in your case.\n",
                        "\n",
                        "We encourage you to reach out to our customer service team if you have any concerns or questions about our products or services. We would be more than happy to assist you in any way we can.\n",
                        "\n",
                        "Thank you again for sharing your feedback with us. We hope to have the opportunity to serve you better in the future.\n",
                        "\n",
                        "Best regards,\n",
                        "AI customer agent\n"
                    ]
                }
            ],
            "source": [
                "prompt = f\"\"\"\n",
                "You are a customer service AI assistant.\n",
                "Your task is to send an email reply to a valued customer.\n",
                "Given the customer email delimited by ```, \\\n",
                "Generate a reply to thank the customer for their review.\n",
                "If the sentiment is positive or neutral, thank them for \\\n",
                "their review.\n",
                "If the sentiment is negative, apologize and suggest that \\\n",
                "they can reach out to customer service. \n",
                "Make sure to use specific details from the review.\n",
                "Write in a concise and professional tone.\n",
                "Sign the email as `AI customer agent`.\n",
                "Customer review: ```{review}```\n",
                "Review sentiment: {sentiment}\n",
                "\"\"\"\n",
                "\n",
                "response = get_completion(prompt, temperature=0.7)\n",
                "print(response)\n"
            ]
        }
    ],
    "metadata": {
        "kernelspec": {
            "display_name": ".venv",
            "language": "python",
            "name": "python3"
        },
        "language_info": {
            "codemirror_mode": {
                "name": "ipython",
                "version": 3
            },
            "file_extension": ".py",
            "mimetype": "text/x-python",
            "name": "python",
            "nbconvert_exporter": "python",
            "pygments_lexer": "ipython3",
            "version": "3.11.2"
        },
        "orig_nbformat": 4,
        "vscode": {
            "interpreter": {
                "hash": "ed30a1ce680950bdb040580bf68f5dfbe64d8e76b7104a6bfc99ad3c1362b89d"
            }
        }
    },
    "nbformat": 4,
    "nbformat_minor": 2
}