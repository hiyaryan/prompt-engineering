{
    "cells": [
        {
            "attachments": {},
            "cell_type": "markdown",
            "metadata": {},
            "source": [
                "# Transforming\n",
                "Use LLMs for text transformation tasks such as language translation, spelling and grammar checking, tone adjustment, and format conversion.\n",
                "\n",
                "## Setup"
            ]
        },
        {
            "cell_type": "code",
            "execution_count": 1,
            "metadata": {},
            "outputs": [],
            "source": [
                "import openai\n",
                "import os\n",
                "import dotenv\n",
                "\n",
                "from dotenv import load_dotenv, find_dotenv\n",
                "\n",
                "_ = load_dotenv(find_dotenv())  # read local .env file for API key\n",
                "\n",
                "openai.api_key = os.getenv(\"OPENAI_API_KEY\")"
            ]
        },
        {
            "cell_type": "code",
            "execution_count": 2,
            "metadata": {},
            "outputs": [],
            "source": [
                "def get_completion(prompt, model=\"gpt-3.5-turbo\"):\n",
                "    messages = [{\"role\": \"user\", \"content\": prompt}]\n",
                "    response = openai.ChatCompletion.create(\n",
                "        model=model,\n",
                "        messages=messages,\n",
                "        temperature=0,  # degree of randomness of the output\n",
                "    )\n",
                "    return response.choices[0].message[\"content\"]"
            ]
        },
        {
            "attachments": {},
            "cell_type": "markdown",
            "metadata": {},
            "source": [
                "## Translation\n",
                "\n",
                "ChatGPT is trained with sources in many languages. This gives the model the ability to do translation. Here are some examples of how to use this capability."
            ]
        },
        {
            "cell_type": "code",
            "execution_count": 3,
            "metadata": {},
            "outputs": [
                {
                    "name": "stdout",
                    "output_type": "stream",
                    "text": [
                        "Hola, me gustaría ordenar una licuadora.\n"
                    ]
                }
            ],
            "source": [
                "prompt = f\"\"\"\n",
                "Translate the following English text to Spanish: \\\n",
                "```Hi, I would like to order a blender```\n",
                "\"\"\"\n",
                "\n",
                "response = get_completion(prompt)\n",
                "print(response)\n"
            ]
        },
        {
            "cell_type": "code",
            "execution_count": 4,
            "metadata": {},
            "outputs": [
                {
                    "name": "stdout",
                    "output_type": "stream",
                    "text": [
                        "This is French.\n"
                    ]
                }
            ],
            "source": [
                "prompt = f\"\"\"\n",
                "Tell me which language this is:\n",
                "```Combien coûte le lampadaire?```\n",
                "\"\"\"\n",
                "\n",
                "response = get_completion(prompt)\n",
                "print(response)\n"
            ]
        },
        {
            "cell_type": "code",
            "execution_count": 5,
            "metadata": {},
            "outputs": [
                {
                    "name": "stdout",
                    "output_type": "stream",
                    "text": [
                        "French pirate: ```Je veux commander un ballon de basket```\n",
                        "Spanish pirate: ```Quiero ordenar una pelota de baloncesto```\n",
                        "English pirate: ```I want to order a basketball```\n"
                    ]
                }
            ],
            "source": [
                "prompt = f\"\"\"\n",
                "Translate the following English text to French and Spanish\n",
                "and English pirate: \\\n",
                "```I want to order a basketball```\n",
                "\"\"\"\n",
                "\n",
                "response = get_completion(prompt)\n",
                "print(response)\n"
            ]
        },
        {
            "cell_type": "code",
            "execution_count": 6,
            "metadata": {},
            "outputs": [
                {
                    "name": "stdout",
                    "output_type": "stream",
                    "text": [
                        "Formal: ¿Le gustaría ordenar una almohada?\n",
                        "Informal: ¿Quieres ordenar una almohada?\n"
                    ]
                }
            ],
            "source": [
                "prompt = f\"\"\"\n",
                "Translate the following text to Spanish in both the \\\n",
                "formal and informal forms:\n",
                "'Would you liek to order a pillow?'\n",
                "\"\"\"\n",
                "\n",
                "response = get_completion(prompt)\n",
                "print(response)"
            ]
        },
        {
            "attachments": {},
            "cell_type": "markdown",
            "metadata": {},
            "source": [
                "### Universal Translator"
            ]
        },
        {
            "cell_type": "code",
            "execution_count": 7,
            "metadata": {},
            "outputs": [],
            "source": [
                "user_messages = [\n",
                "    # System performance is slower than normal\n",
                "    \"La performance du système est plus lente que d'habitude.\",\n",
                "    # My monitor has pixels that are not lighting\n",
                "    \"Mi monitor tiene píxeles que no se iluminan.\",\n",
                "    # My mouse is not working\n",
                "    \"Il mio mouse non funziona\",\n",
                "    # My keyboard has a broken control key\n",
                "    \"Mój klawisz Ctrl jest zepsuty\",\n",
                "    # My screen is flashing\n",
                "    \"我的屏幕在闪烁\",\n",
                "]"
            ]
        },
        {
            "cell_type": "code",
            "execution_count": 8,
            "metadata": {},
            "outputs": [
                {
                    "name": "stdout",
                    "output_type": "stream",
                    "text": [
                        "Original message (This is French.): La performance du système est plus lente que d'habitude.\n",
                        "English: The system performance is slower than usual.\n",
                        "Korean: 시스템 성능이 평소보다 느립니다.\n",
                        "Original message (This is Spanish.): Mi monitor tiene píxeles que no se iluminan.\n",
                        "English: My monitor has pixels that don't light up.\n",
                        "Korean: 내 모니터에는 불이 켜지지 않는 픽셀이 있습니다.\n",
                        "Original message (This is Italian.): Il mio mouse non funziona\n",
                        "English: My mouse is not working\n",
                        "Korean: 내 마우스가 작동하지 않습니다.\n",
                        "Original message (This is Polish.): Mój klawisz Ctrl jest zepsuty\n",
                        "English: My Ctrl key is broken\n",
                        "Korean: 제 Ctrl 키가 고장 났어요\n",
                        "Original message (This is Chinese (Simplified).): 我的屏幕在闪烁\n",
                        "English: My screen is flickering.\n",
                        "Korean: 내 화면이 깜빡입니다.\n"
                    ]
                }
            ],
            "source": [
                "for issue in user_messages:\n",
                "    prompt = f\"Tell me what language thi is: ```{issue}```\"\n",
                "    lang = get_completion(prompt)\n",
                "    print(f\"Original message ({lang}): {issue}\")\n",
                "\n",
                "    prompt = f\"\"\"\n",
                "Translate the following text to English \\\n",
                "and Korean: ```{issue}```\n",
                "\"\"\"\n",
                "\n",
                "    response = get_completion(prompt)\n",
                "    print(response)\n"
            ]
        },
        {
            "attachments": {},
            "cell_type": "markdown",
            "metadata": {},
            "source": [
                "## Tone Transformation\n",
                "Produce different tones for intended audiences."
            ]
        },
        {
            "cell_type": "code",
            "execution_count": 9,
            "metadata": {},
            "outputs": [
                {
                    "name": "stdout",
                    "output_type": "stream",
                    "text": [
                        "Dear Sir/Madam,\n",
                        "\n",
                        "I am writing to bring to your attention a standing lamp that I believe may be of interest to you. Please find attached the specifications for your review.\n",
                        "\n",
                        "Thank you for your time and consideration.\n",
                        "\n",
                        "Sincerely,\n",
                        "\n",
                        "Joe\n"
                    ]
                }
            ],
            "source": [
                "prompt = f\"\"\"\n",
                "Translate the following from slang to a business letter:\n",
                "'Dude, This is Joe, check out this spec on this standing lamp.'\n",
                "\"\"\"\n",
                "\n",
                "response = get_completion(prompt)\n",
                "print(response)"
            ]
        },
        {
            "attachments": {},
            "cell_type": "markdown",
            "metadata": {},
            "source": [
                "## Format Conversion\n",
                "Translate between different formats. The prompt should describe the input and the output formats."
            ]
        },
        {
            "cell_type": "code",
            "execution_count": 10,
            "metadata": {},
            "outputs": [
                {
                    "name": "stdout",
                    "output_type": "stream",
                    "text": [
                        "<table>\n",
                        "  <caption>Restaurant Employees</caption>\n",
                        "  <thead>\n",
                        "    <tr>\n",
                        "      <th>Name</th>\n",
                        "      <th>Email</th>\n",
                        "    </tr>\n",
                        "  </thead>\n",
                        "  <tbody>\n",
                        "    <tr>\n",
                        "      <td>Shyam</td>\n",
                        "      <td>shyamjaiswal@gmail.com</td>\n",
                        "    </tr>\n",
                        "    <tr>\n",
                        "      <td>Bob</td>\n",
                        "      <td>bob32@gmail.com</td>\n",
                        "    </tr>\n",
                        "    <tr>\n",
                        "      <td>Jai</td>\n",
                        "      <td>jai87@gmail.com</td>\n",
                        "    </tr>\n",
                        "  </tbody>\n",
                        "</table>\n"
                    ]
                }
            ],
            "source": [
                "data_json = {\n",
                "    \"resturant employees\": [\n",
                "        {\"name\": \"Shyam\", \"email\": \"shyamjaiswal@gmail.com\"},\n",
                "        {\"name\": \"Bob\", \"email\": \"bob32@gmail.com\"},\n",
                "        {\"name\": \"Jai\", \"email\": \"jai87@gmail.com\"},\n",
                "    ]\n",
                "}\n",
                "\n",
                "prompt = f\"\"\"\n",
                "Translate the following python dictionary from JSON to an HTML \\\n",
                "table with column headers and title: {data_json}\n",
                "\"\"\"\n",
                "\n",
                "response = get_completion(prompt)\n",
                "print(response)\n"
            ]
        },
        {
            "cell_type": "code",
            "execution_count": 11,
            "metadata": {},
            "outputs": [
                {
                    "data": {
                        "text/html": [
                            "<table>\n",
                            "  <caption>Restaurant Employees</caption>\n",
                            "  <thead>\n",
                            "    <tr>\n",
                            "      <th>Name</th>\n",
                            "      <th>Email</th>\n",
                            "    </tr>\n",
                            "  </thead>\n",
                            "  <tbody>\n",
                            "    <tr>\n",
                            "      <td>Shyam</td>\n",
                            "      <td>shyamjaiswal@gmail.com</td>\n",
                            "    </tr>\n",
                            "    <tr>\n",
                            "      <td>Bob</td>\n",
                            "      <td>bob32@gmail.com</td>\n",
                            "    </tr>\n",
                            "    <tr>\n",
                            "      <td>Jai</td>\n",
                            "      <td>jai87@gmail.com</td>\n",
                            "    </tr>\n",
                            "  </tbody>\n",
                            "</table>"
                        ],
                        "text/plain": [
                            "<IPython.core.display.HTML object>"
                        ]
                    },
                    "metadata": {},
                    "output_type": "display_data"
                }
            ],
            "source": [
                "from IPython.display import display, Markdown, Latex, HTML, JSON\n",
                "\n",
                "display(HTML(response))\n"
            ]
        },
        {
            "attachments": {},
            "cell_type": "markdown",
            "metadata": {},
            "source": [
                "## Spelling/Grammar check.\n",
                "Have the LLM check for grammar and spelling errors. Signal to the LLM to proofread text by adding the word \"proofread\" or \"proofread and correct\" to the prompt."
            ]
        },
        {
            "cell_type": "code",
            "execution_count": 12,
            "metadata": {},
            "outputs": [
                {
                    "name": "stdout",
                    "output_type": "stream",
                    "text": [
                        "The girl with the black and white puppies has a ball.\n",
                        "No errors found.\n",
                        "It's going to be a long day. Does the car need its oil changed?\n",
                        "Their goes my freedom. There going to bring they're suitcases.\n",
                        "\n",
                        "Corrected: \n",
                        "There goes my freedom. They're going to bring their suitcases.\n",
                        "You're going to need your notebook.\n",
                        "That medicine affects my ability to sleep. Have you heard of the butterfly effect?\n",
                        "This phrase is to check ChatGPT for spelling ability.\n"
                    ]
                }
            ],
            "source": [
                "text = [\n",
                "    # The girl has a ball.\n",
                "    \"The girl with the black and white puppies have a ball.\",\n",
                "    # ok\n",
                "    \"Yolanda has her notebook.\",\n",
                "    # Homonyms\n",
                "    \"Its going to be a long day. Does the car need it's oil changed?\",\n",
                "    # Homonyms\n",
                "    \"Their goes my freedom. There going to bring they're suitcases.\",\n",
                "    # Homonyms\n",
                "    \"Your going to need you're notebook.\",\n",
                "    # Homonyms\n",
                "    \"That medicine effects my ability to sleep. Have you heard of the butterfly affect?\",\n",
                "    # spelling\n",
                "    \"This phrase is to cherck chatGPT for speling abilitty\",\n",
                "]\n",
                "for t in text:\n",
                "    prompt = f\"\"\"Proofread and correct the following text\n",
                "    and rewrite the corrected version. If you don't find\n",
                "    and errors, just say \"No errors found\". Don't use \n",
                "    any punctuation around the text:\n",
                "    ```{t}```\"\"\"\n",
                "\n",
                "    response = get_completion(prompt)\n",
                "    print(response)\n"
            ]
        },
        {
            "cell_type": "code",
            "execution_count": 13,
            "metadata": {},
            "outputs": [
                {
                    "name": "stdout",
                    "output_type": "stream",
                    "text": [
                        "I got this for my daughter's birthday because she keeps taking mine from my room. Yes, adults also like pandas too. She takes it everywhere with her, and it's super soft and cute. However, one of the ears is a bit lower than the other, and I don't think that was designed to be asymmetrical. Additionally, it's a bit small for what I paid for it. I think there might be other options that are bigger for the same price. On the positive side, it arrived a day earlier than expected, so I got to play with it myself before I gave it to my daughter.\n"
                    ]
                }
            ],
            "source": [
                "text = f\"\"\"\n",
                "Got this for my daughter for her birthday cuz she keeps taking \\\n",
                "mine from my room.  Yes, adults also like pandas too.  She takes \\\n",
                "it everywhere with her, and it's super soft and cute.  One of the \\\n",
                "ears is a bit lower than the other, and I don't think that was \\\n",
                "designed to be asymmetrical. It's a bit small for what I paid for it \\\n",
                "though. I think there might be other options that are bigger for \\\n",
                "the same price.  It arrived a day earlier than expected, so I got \\\n",
                "to play with it myself before I gave it to my daughter.\n",
                "\"\"\"\n",
                "prompt = f\"proofread and correct this review: ```{text}```\"\n",
                "\n",
                "response = get_completion(prompt)\n",
                "print(response)"
            ]
        },
        {
            "cell_type": "code",
            "execution_count": 14,
            "metadata": {},
            "outputs": [
                {
                    "data": {
                        "text/markdown": [
                            "<span style=\"color:red;font-weight:700;text-decoration:line-through;\">Got </span><span style=\"color:red;font-weight:700;\">I got </span>this for my <span style=\"color:red;font-weight:700;text-decoration:line-through;\">daughter for her </span><span style=\"color:red;font-weight:700;\">daughter's </span>birthday <span style=\"color:red;font-weight:700;text-decoration:line-through;\">cuz </span><span style=\"color:red;font-weight:700;\">because </span>she keeps taking mine from my <span style=\"color:red;font-weight:700;text-decoration:line-through;\">room.  </span><span style=\"color:red;font-weight:700;\">room. </span>Yes, adults also like pandas <span style=\"color:red;font-weight:700;text-decoration:line-through;\">too.  </span><span style=\"color:red;font-weight:700;\">too. </span>She takes it everywhere with her, and it's super soft and <span style=\"color:red;font-weight:700;text-decoration:line-through;\">cute.  One </span><span style=\"color:red;font-weight:700;\">cute. However, one </span>of the ears is a bit lower than the other, and I don't think that was designed to be asymmetrical. <span style=\"color:red;font-weight:700;text-decoration:line-through;\">It's </span><span style=\"color:red;font-weight:700;\">Additionally, it's </span>a bit small for what I paid for <span style=\"color:red;font-weight:700;text-decoration:line-through;\">it though. </span><span style=\"color:red;font-weight:700;\">it. </span>I think there might be other options that are bigger for the same <span style=\"color:red;font-weight:700;text-decoration:line-through;\">price.  It </span><span style=\"color:red;font-weight:700;\">price. On the positive side, it </span>arrived a day earlier than expected, so I got to play with it myself before I gave it to my <span style=\"color:red;font-weight:700;text-decoration:line-through;\">daughter.\n",
                            "</span><span style=\"color:red;font-weight:700;\">daughter.</span>"
                        ],
                        "text/plain": [
                            "<IPython.core.display.Markdown object>"
                        ]
                    },
                    "metadata": {},
                    "output_type": "display_data"
                }
            ],
            "source": [
                "from redlines import Redlines\n",
                "\n",
                "diff = Redlines(text, response)\n",
                "display(Markdown(diff.output_markdown))"
            ]
        },
        {
            "cell_type": "code",
            "execution_count": 15,
            "metadata": {},
            "outputs": [
                {
                    "data": {
                        "text/markdown": [
                            "Title: A Soft and Cute Panda Plushie for All Ages\n",
                            "\n",
                            "As an adult, I can attest that pandas are not just for kids. That's why I got this adorable panda plushie for my daughter's birthday, after she kept taking mine from my room. And let me tell you, it was a hit!\n",
                            "\n",
                            "The plushie is super soft and cuddly, making it the perfect companion for my daughter. She takes it everywhere with her, and it has quickly become her favorite toy. However, I did notice that one of the ears is a bit lower than the other, which I don't think was designed to be asymmetrical. But that doesn't take away from its cuteness.\n",
                            "\n",
                            "The only downside is that it's a bit small for the price I paid. I think there might be other options that are bigger for the same price. But overall, I'm happy with my purchase.\n",
                            "\n",
                            "One thing that surprised me was that it arrived a day earlier than expected. This gave me the chance to play with it myself before giving it to my daughter. And let me tell you, it's just as fun for adults as it is for kids.\n",
                            "\n",
                            "In conclusion, if you're looking for a soft and cute panda plushie that's perfect for all ages, this is definitely a great option. Just be aware that it might be a bit smaller than you expect."
                        ],
                        "text/plain": [
                            "<IPython.core.display.Markdown object>"
                        ]
                    },
                    "metadata": {},
                    "output_type": "display_data"
                }
            ],
            "source": [
                "prompt = f\"\"\"\n",
                "proofread and correct this review. Make it more compelling. \n",
                "Ensure it follows APA style guide and targets an advanced reader. \n",
                "Output in markdown format.\n",
                "Text: ```{text}```\n",
                "\"\"\"\n",
                "\n",
                "response = get_completion(prompt)\n",
                "display(Markdown(response))\n"
            ]
        }
    ],
    "metadata": {
        "kernelspec": {
            "display_name": ".venv",
            "language": "python",
            "name": "python3"
        },
        "language_info": {
            "codemirror_mode": {
                "name": "ipython",
                "version": 3
            },
            "file_extension": ".py",
            "mimetype": "text/x-python",
            "name": "python",
            "nbconvert_exporter": "python",
            "pygments_lexer": "ipython3",
            "version": "3.11.2"
        },
        "orig_nbformat": 4,
        "vscode": {
            "interpreter": {
                "hash": "ed30a1ce680950bdb040580bf68f5dfbe64d8e76b7104a6bfc99ad3c1362b89d"
            }
        }
    },
    "nbformat": 4,
    "nbformat_minor": 2
}